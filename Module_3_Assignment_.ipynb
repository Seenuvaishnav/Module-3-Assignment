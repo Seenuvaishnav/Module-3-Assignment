{
  "nbformat": 4,
  "nbformat_minor": 0,
  "metadata": {
    "colab": {
      "provenance": []
    },
    "kernelspec": {
      "name": "python3",
      "display_name": "Python 3"
    },
    "language_info": {
      "name": "python"
    }
  },
  "cells": [
    {
      "cell_type": "markdown",
      "source": [
        "1. Write a simple program in HTML  that displays the heading \"HTML defines the content and structure of\n",
        "your website” on the web browsers"
      ],
      "metadata": {
        "id": "Fs7o-uk6wU5Z"
      }
    },
    {
      "cell_type": "code",
      "source": [
        "%%html\n",
        "\n",
        "<h1>\n",
        "  HTML defines the content and structure of\n",
        "your website.\n",
        "</h1>\n"
      ],
      "metadata": {
        "colab": {
          "base_uri": "https://localhost:8080/",
          "height": 74
        },
        "id": "8vANV3PkwaTA",
        "outputId": "f201f1a4-8395-4190-a542-670ae2933151"
      },
      "execution_count": null,
      "outputs": [
        {
          "output_type": "display_data",
          "data": {
            "text/plain": [
              "<IPython.core.display.HTML object>"
            ],
            "text/html": [
              "\n",
              "<h1>\n",
              "  HTML defines the content and structure of\n",
              "your website.\n",
              "</h1>\n"
            ]
          },
          "metadata": {}
        }
      ]
    },
    {
      "cell_type": "markdown",
      "source": [
        "2. Explain the purpose of comments in HTML and provide an example of how to use comments in an HTML\n",
        "documents\n",
        "\n",
        "   - HTML Comments are used to add notes or provide an explanation to any usr further.\n",
        "\n",
        "    - Adding comments further refers that HTMl wont read that as a code and would not execute it .\n",
        "\n",
        "    - For example :-"
      ],
      "metadata": {
        "id": "bRsrH99ax8jp"
      }
    },
    {
      "cell_type": "code",
      "execution_count": null,
      "metadata": {
        "colab": {
          "base_uri": "https://localhost:8080/",
          "height": 90
        },
        "id": "2__bGp4FwRWz",
        "outputId": "d417a536-9a1b-492d-9f02-b272d2d8af10"
      },
      "outputs": [
        {
          "output_type": "display_data",
          "data": {
            "text/plain": [
              "<IPython.core.display.HTML object>"
            ],
            "text/html": [
              "\n",
              "<head>\n",
              "<h2> Adding Comments </h2>\n",
              "\n",
              "<p> \" this is an example for a comment \"\" </p>\n",
              "\n",
              "</head>\n",
              "<body>\n"
            ]
          },
          "metadata": {}
        }
      ],
      "source": [
        "%%html\n",
        "\n",
        "<head>\n",
        "<h2> Adding Comments </h2>\n",
        "\n",
        "<p> \" this is an example for a comment \"\" </p>\n",
        "\n",
        "</head>\n",
        "<body>\n"
      ]
    },
    {
      "cell_type": "markdown",
      "source": [
        "3. Write an HTML program that includes a heading, a paragraph of text, a horizontal line, and a line break.\n",
        "Arrange these elements to create a simple web page layouts .\n",
        "\n",
        "   -"
      ],
      "metadata": {
        "id": "DmWxInilEazd"
      }
    },
    {
      "cell_type": "code",
      "source": [
        "%%html\n",
        "\n",
        "<h1> \" Create a Webpage \" </h1>\n",
        "\n",
        "<p> This is a webpage that contains a paragraph , a horizontal line and a break line </p>\n",
        "\n",
        "<hr>\n",
        "\n",
        "<p>This is another paragraph.<br>\n",
        "       Answer complete .</p>\n",
        "\n"
      ],
      "metadata": {
        "colab": {
          "base_uri": "https://localhost:8080/",
          "height": 151
        },
        "id": "fMQf5ZfGE4yu",
        "outputId": "36ebd3c2-983f-4916-bce5-c8fb80ddc5f1"
      },
      "execution_count": null,
      "outputs": [
        {
          "output_type": "display_data",
          "data": {
            "text/plain": [
              "<IPython.core.display.HTML object>"
            ],
            "text/html": [
              "\n",
              "<h1> \" Create a Webpage \" </h1>\n",
              "\n",
              "<p> This is a webpage that contains a paragraph , a horizontal line and a break line </p> \n",
              "\n",
              "<hr>\n",
              "\n",
              "<p>This is another paragraph.<br> \n",
              "       Answer complete .</p>\n",
              "\n"
            ]
          },
          "metadata": {}
        }
      ]
    },
    {
      "cell_type": "markdown",
      "source": [
        "4.Write a short note on Tag and element with an examples\n",
        "\n",
        "   - Tags:- <br>\n",
        "      - Tags are the part of HTML that is used to describe or decide that how a content should be showed or displayed on webpage or website . They are usually denoted in <> ( angle bracket )forms . <br>\n",
        "\n",
        "      For example :- < h1 > , < /h1 > are few examples of a tags.\n",
        "\n",
        "   - Elements :- <br>\n",
        "      -Elements are things which consists of both opening and closing tags . The entire structure is called elements\n",
        "\n",
        "      -for Example :- <br>\n",
        "      < p > \" this is an example \" < /p > .\n"
      ],
      "metadata": {
        "id": "jSM3Bk25Gn5a"
      }
    },
    {
      "cell_type": "markdown",
      "source": [
        "5. What is the DOCTYPE Declaration in HTML?\n",
        "\n",
        "    - DOCTYPE Declaration is type of file that defines the \" VERSION \" of HTML being used to create file."
      ],
      "metadata": {
        "id": "C3EZHtCZRbgK"
      }
    },
    {
      "cell_type": "code",
      "source": [],
      "metadata": {
        "id": "eQe8zk1gx7wF"
      },
      "execution_count": null,
      "outputs": []
    }
  ]
}